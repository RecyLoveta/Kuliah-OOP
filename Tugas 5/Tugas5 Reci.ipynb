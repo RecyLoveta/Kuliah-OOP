{
 "cells": [
  {
   "cell_type": "code",
   "execution_count": 1,
   "id": "56d02b87",
   "metadata": {},
   "outputs": [
    {
     "name": "stdout",
     "output_type": "stream",
     "text": [
      "Nama saya Reci Loveta Optapia,NPM saya 18210004\n"
     ]
    }
   ],
   "source": [
    "nama=\"Reci Loveta Optapia\"\n",
    "npm=\"18210004\"\n",
    "\n",
    "print('Nama saya %s,NPM saya %s' % (nama,npm))"
   ]
  },
  {
   "cell_type": "code",
   "execution_count": null,
   "id": "d020d005",
   "metadata": {},
   "outputs": [],
   "source": []
  }
 ],
 "metadata": {
  "kernelspec": {
   "display_name": "Python 3",
   "language": "python",
   "name": "python3"
  },
  "language_info": {
   "codemirror_mode": {
    "name": "ipython",
    "version": 3
   },
   "file_extension": ".py",
   "mimetype": "text/x-python",
   "name": "python",
   "nbconvert_exporter": "python",
   "pygments_lexer": "ipython3",
   "version": "3.9.2"
  }
 },
 "nbformat": 4,
 "nbformat_minor": 5
}
